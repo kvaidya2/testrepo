{
 "cells": [
  {
   "cell_type": "markdown",
   "id": "be6ffd94",
   "metadata": {},
   "source": [
    "# Data Science Tools and Ecosystem"
   ]
  },
  {
   "cell_type": "markdown",
   "id": "17f39f8e",
   "metadata": {},
   "source": [
    "## In this notebook, Data Science tools and ecosystem are summarized"
   ]
  },
  {
   "cell_type": "markdown",
   "id": "5ec5e129",
   "metadata": {},
   "source": [
    "### Some of the popular languages for Data Science are:"
   ]
  },
  {
   "cell_type": "markdown",
   "id": "6708e1e6",
   "metadata": {},
   "source": [
    "1. Python\n",
    "2. R\n",
    "3. SQL"
   ]
  },
  {
   "cell_type": "markdown",
   "id": "bd7f6f5d",
   "metadata": {},
   "source": [
    "### Some of the most common libraries for Data Science are:"
   ]
  },
  {
   "cell_type": "markdown",
   "id": "985747ea",
   "metadata": {},
   "source": [
    "1. Pandas\n",
    "2. NumPY\n",
    "3. MatPlotlib\n",
    "4. Seaborn\n",
    "5. SciKitlearn"
   ]
  },
  {
   "cell_type": "markdown",
   "id": "a9a2b84e",
   "metadata": {},
   "source": [
    "### Data Science Tools:\n",
    "\n",
    "1. Jupyter Notebook\n",
    "2. RStudio\n",
    "3. Visual Studio Code"
   ]
  },
  {
   "cell_type": "markdown",
   "id": "51bcc728",
   "metadata": {},
   "source": [
    "### Below are the few examples for evaluating arithmetic expressions in Python:"
   ]
  },
  {
   "cell_type": "code",
   "execution_count": 1,
   "id": "7ffc6389",
   "metadata": {},
   "outputs": [
    {
     "data": {
      "text/plain": [
       "17"
      ]
     },
     "execution_count": 1,
     "metadata": {},
     "output_type": "execute_result"
    }
   ],
   "source": [
    "(3*4)+5 # This is a simple arithmetic operation to first multiply and then add to get an answer"
   ]
  },
  {
   "cell_type": "code",
   "execution_count": 2,
   "id": "17cfa00a",
   "metadata": {},
   "outputs": [
    {
     "data": {
      "text/plain": [
       "3.3333333333333335"
      ]
     },
     "execution_count": 2,
     "metadata": {},
     "output_type": "execute_result"
    }
   ],
   "source": [
    "200/60 # This will convert 200 minutes to hours by dividing it by 60"
   ]
  },
  {
   "cell_type": "markdown",
   "id": "0504c3bf",
   "metadata": {},
   "source": [
    "### **Objectives :** List popular languages for Data Science\n",
    "\n",
    "* Python\n",
    "* R\n",
    "* SQl"
   ]
  },
  {
   "cell_type": "markdown",
   "id": "973aabc4",
   "metadata": {},
   "source": [
    "## Author\n",
    "Kathan Vaidya"
   ]
  }
 ],
 "metadata": {
  "kernelspec": {
   "display_name": "Python 3",
   "language": "python",
   "name": "python3"
  },
  "language_info": {
   "codemirror_mode": {
    "name": "ipython",
    "version": 3
   },
   "file_extension": ".py",
   "mimetype": "text/x-python",
   "name": "python",
   "nbconvert_exporter": "python",
   "pygments_lexer": "ipython3",
   "version": "3.8.8"
  }
 },
 "nbformat": 4,
 "nbformat_minor": 5
}
